{
 "cells": [
  {
   "cell_type": "markdown",
   "metadata": {},
   "source": [
    "Use Python's Faker library to generate a list of twenty colors. Call it color_list."
   ]
  },
  {
   "cell_type": "code",
   "execution_count": 1,
   "metadata": {},
   "outputs": [
    {
     "name": "stdout",
     "output_type": "stream",
     "text": [
      "Collecting faker\n",
      "  Downloading Faker-15.3.2-py3-none-any.whl (1.6 MB)\n",
      "\u001b[K     |████████████████████████████████| 1.6 MB 1.5 MB/s eta 0:00:01\n",
      "\u001b[?25hRequirement already satisfied: python-dateutil>=2.4 in /home/reedandrew18/.local/lib/python3.9/site-packages (from faker) (2.8.2)\n",
      "Requirement already satisfied: six>=1.5 in /usr/lib/python3/dist-packages (from python-dateutil>=2.4->faker) (1.14.0)\n",
      "Installing collected packages: faker\n",
      "\u001b[33m  WARNING: The script faker is installed in '/home/reedandrew18/.local/bin' which is not on PATH.\n",
      "  Consider adding this directory to PATH or, if you prefer to suppress this warning, use --no-warn-script-location.\u001b[0m\n",
      "Successfully installed faker-15.3.2\n",
      "Note: you may need to restart the kernel to use updated packages.\n"
     ]
    }
   ],
   "source": [
    "%pip install faker"
   ]
  },
  {
   "cell_type": "code",
   "execution_count": 78,
   "metadata": {},
   "outputs": [
    {
     "name": "stdout",
     "output_type": "stream",
     "text": [
      "['Fuchsia', 'Tan', 'MidnightBlue', 'DarkBlue', 'DarkBlue', 'OrangeRed', 'Gray', 'HoneyDew', 'Azure', 'LightSlateGray', 'Silver', 'GoldenRod', 'DarkMagenta', 'DodgerBlue', 'MediumVioletRed', 'Magenta', 'Tomato', 'Peru', 'LightCoral', 'Lime']\n"
     ]
    }
   ],
   "source": [
    "from faker import Faker\n",
    "\n",
    "fake = Faker()\n",
    "color_list = []\n",
    "for i in range(20):\n",
    "  color_names = (fake.color_name())\n",
    "  color_list.append(color_names)\n",
    "print(color_list)"
   ]
  },
  {
   "cell_type": "markdown",
   "metadata": {},
   "source": [
    "Write a function called remove_dups to remove any duplicates from color_list."
   ]
  },
  {
   "cell_type": "code",
   "execution_count": 79,
   "metadata": {},
   "outputs": [
    {
     "name": "stdout",
     "output_type": "stream",
     "text": [
      "['Fuchsia', 'Tan', 'MidnightBlue', 'DarkBlue', 'OrangeRed', 'Gray', 'HoneyDew', 'Azure', 'LightSlateGray', 'Silver', 'GoldenRod', 'DarkMagenta', 'DodgerBlue', 'MediumVioletRed', 'Magenta', 'Tomato', 'Peru', 'LightCoral', 'Lime']\n"
     ]
    }
   ],
   "source": [
    "color_list_no_dups = []\n",
    "def remove_dups(list_of_colors):\n",
    "  [color_list_no_dups.append(color) for color in list_of_colors if color not in color_list_no_dups]\n",
    "  print(color_list_no_dups)\n",
    "\n",
    "remove_dups(color_list)"
   ]
  },
  {
   "cell_type": "code",
   "execution_count": 80,
   "metadata": {},
   "outputs": [
    {
     "name": "stdout",
     "output_type": "stream",
     "text": [
      "{'Fuchsia': 7, 'Tan': 3, 'MidnightBlue': 12, 'DarkBlue': 8, 'OrangeRed': 9, 'Gray': 4, 'HoneyDew': 8, 'Azure': 5, 'LightSlateGray': 14, 'Silver': 6, 'GoldenRod': 9, 'DarkMagenta': 11, 'DodgerBlue': 10, 'MediumVioletRed': 15, 'Magenta': 7, 'Tomato': 6, 'Peru': 4, 'LightCoral': 10, 'Lime': 4}\n"
     ]
    }
   ],
   "source": [
    "\n",
    "color_dict = {color: len(color) for color in color_list_no_dups}\n",
    "print(color_dict)\n"
   ]
  },
  {
   "cell_type": "markdown",
   "metadata": {},
   "source": [
    "Once color_list only has unique values (no duplicates) use a dictionary comprehension to create a dictionary from it. Each key should be the name of the color, and its value should be the length of the name. Call it color_dict."
   ]
  },
  {
   "cell_type": "code",
   "execution_count": 81,
   "metadata": {},
   "outputs": [],
   "source": [
    "import json\n",
    "\n",
    "with open(\"./data/colors.json\", \"w\") as json_colors:\n",
    "  json.dump(color_dict, json_colors)\n",
    "  "
   ]
  },
  {
   "cell_type": "code",
   "execution_count": 82,
   "metadata": {},
   "outputs": [
    {
     "name": "stdout",
     "output_type": "stream",
     "text": [
      " The color Fuchsia has 7 letters in its name\n",
      " The color MidnightBlue has 12 letters in its name\n",
      " The color DarkBlue has 8 letters in its name\n",
      " The color OrangeRed has 9 letters in its name\n",
      " The color Gray has 4 letters in its name\n",
      " The color HoneyDew has 8 letters in its name\n",
      " The color Azure has 5 letters in its name\n",
      " The color LightSlateGray has 14 letters in its name\n",
      " The color Silver has 6 letters in its name\n",
      " The color GoldenRod has 9 letters in its name\n",
      " The color DarkMagenta has 11 letters in its name\n",
      " The color DodgerBlue has 10 letters in its name\n",
      " The color MediumVioletRed has 15 letters in its name\n",
      " The color Magenta has 7 letters in its name\n",
      " The color Tomato has 6 letters in its name\n",
      " The color Peru has 4 letters in its name\n",
      " The color LightCoral has 10 letters in its name\n",
      " The color Lime has 4 letters in its name\n",
      "{'Fuchsia': 7, 'Tan': 3, 'MidnightBlue': 12, 'DarkBlue': 8, 'OrangeRed': 9, 'Gray': 4, 'HoneyDew': 8, 'Azure': 5, 'LightSlateGray': 14, 'Silver': 6, 'GoldenRod': 9, 'DarkMagenta': 11, 'DodgerBlue': 10, 'MediumVioletRed': 15, 'Magenta': 7, 'Tomato': 6, 'Peru': 4, 'LightCoral': 10, 'Lime': 4}\n"
     ]
    }
   ],
   "source": [
    "with open(\"./data/colors.json\", \"r\") as json_colors_short:\n",
    "  colors_short = json.load(json_colors_short)\n",
    "  for key, value in colors_short.items():\n",
    "    if len(key) >= 4:\n",
    "      print(f\" The color {key} has {len(key)} letters in its name\")\n",
    "  print(colors_short)"
   ]
  }
 ],
 "metadata": {
  "kernelspec": {
   "display_name": "Python 3.9.15 64-bit",
   "language": "python",
   "name": "python3"
  },
  "language_info": {
   "codemirror_mode": {
    "name": "ipython",
    "version": 3
   },
   "file_extension": ".py",
   "mimetype": "text/x-python",
   "name": "python",
   "nbconvert_exporter": "python",
   "pygments_lexer": "ipython3",
   "version": "3.9.15"
  },
  "orig_nbformat": 4,
  "vscode": {
   "interpreter": {
    "hash": "f9f85f796d01129d0dd105a088854619f454435301f6ffec2fea96ecbd9be4ac"
   }
  }
 },
 "nbformat": 4,
 "nbformat_minor": 2
}

{
 "cells": [
  {
   "cell_type": "markdown",
   "metadata": {},
   "source": [
    "Use Python's Faker library to generate a list of twenty colors. Call it color_list."
   ]
  },
  {
   "cell_type": "code",
   "execution_count": 1,
   "metadata": {},
   "outputs": [
    {
     "name": "stdout",
     "output_type": "stream",
     "text": [
      "Collecting faker\n",
      "  Downloading Faker-15.3.2-py3-none-any.whl (1.6 MB)\n",
      "\u001b[K     |████████████████████████████████| 1.6 MB 1.5 MB/s eta 0:00:01\n",
      "\u001b[?25hRequirement already satisfied: python-dateutil>=2.4 in /home/reedandrew18/.local/lib/python3.9/site-packages (from faker) (2.8.2)\n",
      "Requirement already satisfied: six>=1.5 in /usr/lib/python3/dist-packages (from python-dateutil>=2.4->faker) (1.14.0)\n",
      "Installing collected packages: faker\n",
      "\u001b[33m  WARNING: The script faker is installed in '/home/reedandrew18/.local/bin' which is not on PATH.\n",
      "  Consider adding this directory to PATH or, if you prefer to suppress this warning, use --no-warn-script-location.\u001b[0m\n",
      "Successfully installed faker-15.3.2\n",
      "Note: you may need to restart the kernel to use updated packages.\n"
     ]
    }
   ],
   "source": [
    "%pip install faker"
   ]
  },
  {
   "cell_type": "code",
   "execution_count": 37,
   "metadata": {},
   "outputs": [
    {
     "name": "stdout",
     "output_type": "stream",
     "text": [
      "['DarkMagenta', 'Bisque', 'DarkCyan', 'SandyBrown', 'LightCoral', 'LavenderBlush', 'CornflowerBlue', 'DimGray', 'Azure', 'Wheat', 'Peru', 'Green', 'DarkSlateBlue', 'LightSkyBlue', 'YellowGreen', 'Orchid', 'MediumBlue', 'RosyBrown', 'LightSkyBlue', 'MidnightBlue']\n"
     ]
    }
   ],
   "source": [
    "from faker import Faker\n",
    "\n",
    "fake = Faker()\n",
    "color_list = []\n",
    "for i in range(20):\n",
    "  color_names = (fake.color_name())\n",
    "  color_list.append(color_names)\n",
    "print(color_list)"
   ]
  },
  {
   "cell_type": "markdown",
   "metadata": {},
   "source": [
    "Write a function called remove_dups to remove any duplicates from color_list."
   ]
  },
  {
   "cell_type": "code",
   "execution_count": 48,
   "metadata": {},
   "outputs": [
    {
     "name": "stdout",
     "output_type": "stream",
     "text": [
      "['DarkMagenta', 'Bisque', 'DarkCyan', 'SandyBrown', 'LightCoral', 'LavenderBlush', 'CornflowerBlue', 'DimGray', 'Azure', 'Wheat', 'Peru', 'Green', 'DarkSlateBlue', 'LightSkyBlue', 'YellowGreen', 'Orchid', 'MediumBlue', 'RosyBrown', 'MidnightBlue']\n",
      "{'DarkMagenta': 11, 'Bisque': 6, 'DarkCyan': 8, 'SandyBrown': 10, 'LightCoral': 10, 'LavenderBlush': 13, 'CornflowerBlue': 14, 'DimGray': 7, 'Azure': 5, 'Wheat': 5, 'Peru': 4, 'Green': 5, 'DarkSlateBlue': 13, 'LightSkyBlue': 12, 'YellowGreen': 11, 'Orchid': 6, 'MediumBlue': 10, 'RosyBrown': 9, 'MidnightBlue': 12}\n"
     ]
    }
   ],
   "source": [
    "def remove_dups(list_of_colors):\n",
    "  color_list_no_dups = []\n",
    "  [color_list_no_dups.append(color) for color in list_of_colors if color not in color_list_no_dups]\n",
    "  color_dict = {color: len(color) for color in color_list_no_dups}\n",
    "  print(color_list_no_dups)\n",
    "  print(color_dict)\n",
    "\n",
    "remove_dups(color_list)"
   ]
  },
  {
   "cell_type": "markdown",
   "metadata": {},
   "source": [
    "Once color_list only has unique values (no duplicates) use a dictionary comprehension to create a dictionary from it. Each key should be the name of the color, and its value should be the length of the name. Call it color_dict."
   ]
  },
  {
   "cell_type": "code",
   "execution_count": null,
   "metadata": {},
   "outputs": [],
   "source": []
  }
 ],
 "metadata": {
  "kernelspec": {
   "display_name": "Python 3.9.15 64-bit",
   "language": "python",
   "name": "python3"
  },
  "language_info": {
   "codemirror_mode": {
    "name": "ipython",
    "version": 3
   },
   "file_extension": ".py",
   "mimetype": "text/x-python",
   "name": "python",
   "nbconvert_exporter": "python",
   "pygments_lexer": "ipython3",
   "version": "3.9.15"
  },
  "orig_nbformat": 4,
  "vscode": {
   "interpreter": {
    "hash": "f9f85f796d01129d0dd105a088854619f454435301f6ffec2fea96ecbd9be4ac"
   }
  }
 },
 "nbformat": 4,
 "nbformat_minor": 2
}
